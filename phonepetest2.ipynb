{
 "cells": [
  {
   "cell_type": "code",
   "execution_count": 1,
   "metadata": {},
   "outputs": [],
   "source": [
    "import psycopg2\n",
    "import pandas as pd\n",
    "import plotly.express as px\n",
    "import requests\n",
    "import json\n"
   ]
  },
  {
   "cell_type": "code",
   "execution_count": 2,
   "metadata": {},
   "outputs": [],
   "source": [
    "# Dataframe Creation\n",
    "\n",
    "#sql connection\n",
    "mydb=psycopg2.connect(host=\"localhost\",\n",
    "                      user=\"postgres\",\n",
    "                      port=\"5432\",\n",
    "                      database=\"phonepe_data\",\n",
    "                      password=\"Openmysql@1504\")\n",
    "cursor=mydb.cursor()\n",
    "\n",
    "#aggre_transaction_df\n",
    "cursor.execute(\"SELECT * FROM aggregated_transaction\")\n",
    "mydb.commit()\n",
    "table1=cursor.fetchall()\n",
    "\n",
    "Aggre_transaction=pd.DataFrame(table1,columns=(\"States\", \"Years\", \"Quarter\", \"Transaction_type\", \"Transaction_count\", \"Transaction_amount\"))\n",
    "\n",
    "\n",
    "#aggre_user_df\n",
    "cursor.execute(\"SELECT * FROM aggregated_user\")\n",
    "mydb.commit()\n",
    "table2=cursor.fetchall()\n",
    "\n",
    "Aggre_user=pd.DataFrame(table2,columns=(\"States\", \"Years\", \"Quarter\", \"Brands\", \"Transaction_count\", \"Percentage\"))\n",
    "\n",
    "#map_transaction_df\n",
    "cursor.execute(\"SELECT * FROM map_transaction\")\n",
    "mydb.commit()\n",
    "table3=cursor.fetchall()\n",
    "\n",
    "map_transaction=pd.DataFrame(table3,columns=(\"States\", \"Years\", \"Quarter\", \"Districts\", \"Transaction_count\", \"Transaction_amount\"))\n",
    "\n",
    "#map_user_df\n",
    "cursor.execute(\"SELECT * FROM map_user\")\n",
    "mydb.commit()\n",
    "table4=cursor.fetchall()\n",
    "\n",
    "map_user=pd.DataFrame(table4,columns=(\"States\", \"Years\", \"Quarter\", \"Districts\", \"RegisteredUsers\", \"AppOpens\"))\n",
    "\n",
    "\n",
    "#top_transaction_df\n",
    "cursor.execute(\"SELECT * FROM top_transaction\")\n",
    "mydb.commit()\n",
    "table5=cursor.fetchall()\n",
    "\n",
    "top_transaction=pd.DataFrame(table5,columns=(\"States\", \"Years\", \"Quarter\", \"Pincodes\", \"Transaction_count\", \"Transaction_amount\"))\n",
    "\n",
    "\n",
    "#top_user_df\n",
    "cursor.execute(\"SELECT * FROM top_user\")\n",
    "mydb.commit()\n",
    "table6=cursor.fetchall()\n",
    "\n",
    "top_user=pd.DataFrame(table6,columns=(\"States\", \"Years\", \"Quarter\", \"Pincodes\", \"RegisteredUsers\"))"
   ]
  },
  {
   "cell_type": "code",
   "execution_count": 3,
   "metadata": {},
   "outputs": [],
   "source": [
    "#sql connection\n",
    "def top_chart_transaction_amount(table_name):\n",
    "    mydb=psycopg2.connect(host=\"localhost\",\n",
    "                        user=\"postgres\",\n",
    "                        port=\"5432\",\n",
    "                        database=\"phonepe_data\",\n",
    "                        password=\"Openmysql@1504\")\n",
    "    cursor=mydb.cursor()\n",
    "    # plot_1\n",
    "    query1= f'''SELECT states, SUM(transaction_amount) AS transaction_amount \n",
    "                FROM {table_name}\n",
    "                GROUP BY states\n",
    "                ORDER BY transaction_amount DESC\n",
    "                LIMIT 10;'''\n",
    "                \n",
    "    cursor.execute(query1)\n",
    "    table= cursor.fetchall()\n",
    "    mydb.commit()\n",
    "\n",
    "    df_1= pd.DataFrame(table, columns=(\"states\", \"transaction_amount\"))\n",
    "\n",
    "    fig_amount= px.bar(df_1,x=\"states\", y=\"transaction_amount\", title=\" TRANSACTION AMOUNT\", hover_name= \"states\",\n",
    "                        color_discrete_sequence=px.colors.sequential.Aggrnyl, height=650, width=600)\n",
    "    fig_amount.show()\n",
    "\n",
    "    # plot_2\n",
    "    query2= f'''SELECT states, SUM(transaction_amount) AS transaction_amount \n",
    "                FROM {table_name}\n",
    "                GROUP BY states\n",
    "                ORDER BY transaction_amount \n",
    "                LIMIT 10;'''\n",
    "                \n",
    "    cursor.execute(query2)\n",
    "    table2= cursor.fetchall()\n",
    "    mydb.commit()\n",
    "\n",
    "    df_2= pd.DataFrame(table2, columns=(\"states\", \"transaction_amount\"))\n",
    "\n",
    "    fig_amount_2= px.bar(df_2,x=\"states\", y=\"transaction_amount\", title=\" TRANSACTION AMOUNT\", hover_name= \"states\",\n",
    "                        color_discrete_sequence=px.colors.sequential.Aggrnyl_r, height=650, width=600)\n",
    "    fig_amount_2.show()\n",
    "\n",
    "\n",
    "    # plot_3\n",
    "    query3= f'''SELECT states, AVG(transaction_amount) AS transaction_amount \n",
    "                FROM {table_name}\n",
    "                GROUP BY states\n",
    "                ORDER BY transaction_amount ;'''\n",
    "                \n",
    "    cursor.execute(query3)\n",
    "    table3= cursor.fetchall()\n",
    "    mydb.commit()\n",
    "\n",
    "    df_3= pd.DataFrame(table3, columns=(\"states\", \"transaction_amount\"))\n",
    "\n",
    "    fig_amount_3= px.bar(df_3,y=\"states\", x=\"transaction_amount\", title=\" TRANSACTION AMOUNT\", hover_name= \"states\",orientation= \"h\",\n",
    "                        color_discrete_sequence=px.colors.sequential.Bluered_r, height=650, width=600)\n",
    "    fig_amount_3.show()\n",
    "\n"
   ]
  },
  {
   "cell_type": "code",
   "execution_count": 4,
   "metadata": {},
   "outputs": [],
   "source": [
    "#sql connection\n",
    "def top_chart_transaction_count(table_name):\n",
    "    mydb=psycopg2.connect(host=\"localhost\",\n",
    "                        user=\"postgres\",\n",
    "                        port=\"5432\",\n",
    "                        database=\"phonepe_data\",\n",
    "                        password=\"Openmysql@1504\")\n",
    "    cursor=mydb.cursor()\n",
    "    # plot_1\n",
    "    query1= f'''SELECT states, SUM(transaction_count) AS transaction_count \n",
    "                FROM {table_name}\n",
    "                GROUP BY states\n",
    "                ORDER BY transaction_count DESC\n",
    "                LIMIT 10;'''\n",
    "                \n",
    "    cursor.execute(query1)\n",
    "    table= cursor.fetchall()\n",
    "    mydb.commit()\n",
    "\n",
    "    df_1= pd.DataFrame(table, columns=(\"states\", \"transaction_count\"))\n",
    "\n",
    "    fig_amount= px.bar(df_1,x=\"states\", y=\"transaction_count\", title=\" TRANSACTION COUNT\", hover_name= \"states\",\n",
    "                        color_discrete_sequence=px.colors.sequential.Aggrnyl, height=650, width=600)\n",
    "    fig_amount.show()\n",
    "\n",
    "    # plot_2\n",
    "    query2= f'''SELECT states, SUM(transaction_count) AS transaction_count \n",
    "                FROM {table_name}\n",
    "                GROUP BY states\n",
    "                ORDER BY transaction_count \n",
    "                LIMIT 10;'''\n",
    "                \n",
    "    cursor.execute(query2)\n",
    "    table2= cursor.fetchall()\n",
    "    mydb.commit()\n",
    "\n",
    "    df_2= pd.DataFrame(table2, columns=(\"states\", \"transaction_count\"))\n",
    "\n",
    "    fig_amount_2= px.bar(df_2,x=\"states\", y=\"transaction_count\", title=\" TRANSACTION COUNT\", hover_name= \"states\",\n",
    "                        color_discrete_sequence=px.colors.sequential.Aggrnyl_r, height=650, width=600)\n",
    "    fig_amount_2.show()\n",
    "\n",
    "\n",
    "    # plot_3\n",
    "    query3= f'''SELECT states, AVG(transaction_count) AS transaction_count \n",
    "                FROM {table_name}\n",
    "                GROUP BY states\n",
    "                ORDER BY transaction_count ;'''\n",
    "                \n",
    "    cursor.execute(query3)\n",
    "    table3= cursor.fetchall()\n",
    "    mydb.commit()\n",
    "\n",
    "    df_3= pd.DataFrame(table3, columns=(\"states\", \"transaction_count\"))\n",
    "\n",
    "    fig_amount_3= px.bar(df_3,y=\"states\", x=\"transaction_count\", title=\" TRANSACTION COUNT\", hover_name= \"states\",orientation= \"h\",\n",
    "                        color_discrete_sequence=px.colors.sequential.Bluered_r, height=800, width=1000)\n",
    "    fig_amount_3.show()\n",
    "\n"
   ]
  },
  {
   "cell_type": "code",
   "execution_count": 5,
   "metadata": {},
   "outputs": [],
   "source": [
    "#sql connection\n",
    "def top_chart_registered_user(table_name, state):\n",
    "    mydb=psycopg2.connect(host=\"localhost\",\n",
    "                        user=\"postgres\",\n",
    "                        port=\"5432\",\n",
    "                        database=\"phonepe_data\",\n",
    "                        password=\"Openmysql@1504\")\n",
    "    cursor=mydb.cursor()\n",
    "    # plot_1\n",
    "    query1= f'''SELECT districts, SUM(registeredusers) AS registeredusers\n",
    "                FROM {table_name}\n",
    "                WHERE states= '{state}'\n",
    "                GROUP BY districts\n",
    "                ORDER BY registeredusers DESC\n",
    "                LIMIT 10;'''\n",
    "                \n",
    "    cursor.execute(query1)\n",
    "    table= cursor.fetchall()\n",
    "    mydb.commit()\n",
    "\n",
    "    df_1= pd.DataFrame(table, columns=(\"districts\", \"registeredusers\"))\n",
    "\n",
    "    fig_amount= px.bar(df_1,x=\"districts\", y=\"registeredusers\", title=\" TOP 10 OF REGISTERED USERS\", hover_name= \"districts\",\n",
    "                        color_discrete_sequence=px.colors.sequential.Aggrnyl, height=650, width=600)\n",
    "    fig_amount.show()\n",
    "\n",
    "    # plot_2\n",
    "    query2= f'''SELECT districts, SUM(registeredusers) AS registeredusers\n",
    "                FROM {table_name}\n",
    "                WHERE states= '{state}'\n",
    "                GROUP BY districts\n",
    "                ORDER BY registeredusers \n",
    "                LIMIT 10;'''\n",
    "                \n",
    "    cursor.execute(query2)\n",
    "    table2= cursor.fetchall()\n",
    "    mydb.commit()\n",
    "\n",
    "    df_2= pd.DataFrame(table2, columns=(\"districts\", \"registeredusers\"))\n",
    "\n",
    "    fig_amount_2= px.bar(df_2,x=\"districts\", y=\"registeredusers\", title=\"LAST 10 OF REGISTERED USER\", hover_name= \"districts\",\n",
    "                        color_discrete_sequence=px.colors.sequential.Aggrnyl_r, height=650, width=600)\n",
    "    fig_amount_2.show()\n",
    "\n",
    "\n",
    "    # plot_3\n",
    "    query3= f'''SELECT districts, AVG(registeredusers) AS registeredusers\n",
    "                FROM {table_name}\n",
    "                WHERE states= '{state}'\n",
    "                GROUP BY districts\n",
    "                ORDER BY registeredusers;'''\n",
    "                \n",
    "    cursor.execute(query3)\n",
    "    table3= cursor.fetchall()\n",
    "    mydb.commit()\n",
    "\n",
    "    df_3= pd.DataFrame(table3, columns=(\"districts\", \"registeredusers\"))\n",
    "\n",
    "    fig_amount_3= px.bar(df_3,y=\"districts\", x=\"registeredusers\", title=\"AVG OF REGISTERED USER\", hover_name= \"districts\",orientation= \"h\",\n",
    "                        color_discrete_sequence=px.colors.sequential.Bluered_r, height=650, width=600)\n",
    "    fig_amount_3.show()\n",
    "\n"
   ]
  },
  {
   "cell_type": "code",
   "execution_count": 6,
   "metadata": {},
   "outputs": [],
   "source": [
    "#sql connection\n",
    "def top_chart_appopens(table_name, state):\n",
    "    mydb=psycopg2.connect(host=\"localhost\",\n",
    "                        user=\"postgres\",\n",
    "                        port=\"5432\",\n",
    "                        database=\"phonepe_data\",\n",
    "                        password=\"Openmysql@1504\")\n",
    "    cursor=mydb.cursor()\n",
    "    # plot_1\n",
    "    query1= f'''SELECT districts, SUM(appopens) AS appopens\n",
    "                FROM {table_name}\n",
    "                WHERE states= '{state}'\n",
    "                GROUP BY districts\n",
    "                ORDER BY appopens DESC\n",
    "                LIMIT 10;'''\n",
    "                \n",
    "    cursor.execute(query1)\n",
    "    table= cursor.fetchall()\n",
    "    mydb.commit()\n",
    "\n",
    "    df_1= pd.DataFrame(table, columns=(\"districts\", \"appopens\"))\n",
    "\n",
    "    fig_amount= px.bar(df_1,x=\"districts\", y=\"appopens\", title=\" TOP 10 OF APPOPENS \", hover_name= \"districts\",\n",
    "                        color_discrete_sequence=px.colors.sequential.Aggrnyl, height=650, width=600)\n",
    "    fig_amount.show()\n",
    "\n",
    "    # plot_2\n",
    "    query2= f'''SELECT districts, SUM(appopens) AS appopens\n",
    "                FROM {table_name}\n",
    "                WHERE states= '{state}'\n",
    "                GROUP BY districts\n",
    "                ORDER BY appopens \n",
    "                LIMIT 10;'''\n",
    "                \n",
    "    cursor.execute(query2)\n",
    "    table2= cursor.fetchall()\n",
    "    mydb.commit()\n",
    "\n",
    "    df_2= pd.DataFrame(table2, columns=(\"districts\", \"appopens\"))\n",
    "\n",
    "    fig_amount_2= px.bar(df_2,x=\"districts\", y=\"appopens\", title=\"LAST 10 OF APPOPENS \", hover_name= \"districts\",\n",
    "                        color_discrete_sequence=px.colors.sequential.Aggrnyl_r, height=650, width=600)\n",
    "    fig_amount_2.show()\n",
    "\n",
    "\n",
    "    # plot_3\n",
    "    query3= f'''SELECT districts, AVG(appopens) AS appopens\n",
    "                FROM {table_name}\n",
    "                WHERE states= '{state}'\n",
    "                GROUP BY districts\n",
    "                ORDER BY appopens;'''\n",
    "                \n",
    "    cursor.execute(query3)\n",
    "    table3= cursor.fetchall()\n",
    "    mydb.commit()\n",
    "\n",
    "    df_3= pd.DataFrame(table3, columns=(\"districts\", \"appopens\"))\n",
    "\n",
    "    fig_amount_3= px.bar(df_3,y=\"districts\", x=\"appopens\", title=\"AVG OF APPOPENS\", hover_name= \"districts\",orientation= \"h\",\n",
    "                        color_discrete_sequence=px.colors.sequential.Bluered_r, height=650, width=600)\n",
    "    fig_amount_3.show()\n",
    "\n"
   ]
  },
  {
   "cell_type": "code",
   "execution_count": 7,
   "metadata": {},
   "outputs": [],
   "source": [
    "#sql connection\n",
    "def top_chart_registered_users(table_name):\n",
    "    mydb=psycopg2.connect(host=\"localhost\",\n",
    "                        user=\"postgres\",\n",
    "                        port=\"5432\",\n",
    "                        database=\"phonepe_data\",\n",
    "                        password=\"Openmysql@1504\")\n",
    "    cursor=mydb.cursor()\n",
    "    # plot_1\n",
    "    query1= f'''SELECT states,SUM(registeredusers) AS registeredusers\n",
    "                FROM {table_name}\n",
    "                GROUP BY states\n",
    "                ORDER BY registeredusers DESC\n",
    "                LIMIT 10;'''\n",
    "                \n",
    "    cursor.execute(query1)\n",
    "    table= cursor.fetchall()\n",
    "    mydb.commit()\n",
    "\n",
    "    df_1= pd.DataFrame(table, columns=(\"states\", \"registeredusers\"))\n",
    "\n",
    "    fig_amount= px.bar(df_1,x=\"states\", y=\"registeredusers\", title=\" TOP 10 OF REGISTERED USERS\", hover_name= \"states\",\n",
    "                        color_discrete_sequence=px.colors.sequential.Aggrnyl, height=650, width=600)\n",
    "    fig_amount.show()\n",
    "\n",
    "    # plot_2\n",
    "    query2= f'''SELECT states,SUM(registeredusers) AS registeredusers\n",
    "                FROM {table_name}\n",
    "                GROUP BY states\n",
    "                ORDER BY registeredusers \n",
    "                LIMIT 10;'''\n",
    "                \n",
    "    cursor.execute(query2)\n",
    "    table2= cursor.fetchall()\n",
    "    mydb.commit()\n",
    "\n",
    "    df_2= pd.DataFrame(table2, columns=(\"states\", \"registeredusers\"))\n",
    "\n",
    "    fig_amount_2= px.bar(df_2,x=\"states\", y=\"registeredusers\", title=\"LAST 10 OF REGISTERED USER\", hover_name= \"states\",\n",
    "                        color_discrete_sequence=px.colors.sequential.Aggrnyl_r, height=650, width=600)\n",
    "    fig_amount_2.show()\n",
    "\n",
    "\n",
    "    # plot_3\n",
    "    query3= f'''SELECT states,AVG(registeredusers) AS registeredusers\n",
    "                FROM {table_name}\n",
    "                GROUP BY states\n",
    "                ORDER BY registeredusers;'''\n",
    "                \n",
    "    cursor.execute(query3)\n",
    "    table3= cursor.fetchall()\n",
    "    mydb.commit()\n",
    "\n",
    "    df_3= pd.DataFrame(table3, columns=(\"states\", \"registeredusers\"))\n",
    "\n",
    "    fig_amount_3= px.bar(df_3,y=\"states\", x=\"registeredusers\", title=\"AVG OF REGISTERED USER\", hover_name= \"states\",orientation= \"h\",\n",
    "                        color_discrete_sequence=px.colors.sequential.Bluered_r, height=650, width=600)\n",
    "    fig_amount_3.show()\n",
    "\n"
   ]
  },
  {
   "cell_type": "code",
   "execution_count": null,
   "metadata": {},
   "outputs": [],
   "source": [
    "top_chart_registered_users(\"top_user\")"
   ]
  },
  {
   "cell_type": "code",
   "execution_count": null,
   "metadata": {},
   "outputs": [],
   "source": [
    "top_chart_appopens(\"map_user\", \"Tamil Nadu\")"
   ]
  },
  {
   "cell_type": "code",
   "execution_count": null,
   "metadata": {},
   "outputs": [],
   "source": [
    "top_chart_registered_user(\"map_user\", \"Tamil Nadu\")"
   ]
  },
  {
   "cell_type": "code",
   "execution_count": null,
   "metadata": {},
   "outputs": [],
   "source": [
    "top_chart_transaction_count(\"aggregated_transaction\")"
   ]
  },
  {
   "cell_type": "code",
   "execution_count": null,
   "metadata": {},
   "outputs": [],
   "source": [
    "top_chart_transaction_amount(\"aggregated_transaction\")"
   ]
  },
  {
   "cell_type": "code",
   "execution_count": 13,
   "metadata": {},
   "outputs": [],
   "source": [
    "# Transaction_year Based\n",
    "def Transaction_amount_count_Y(df, year):\n",
    "    tacy= df[df[\"Years\"] == year]\n",
    "    tacy.reset_index(drop=True,inplace=True)\n",
    "\n",
    "    tacyg= tacy.groupby(\"States\")[[\"Transaction_count\",\"Transaction_amount\"]].sum()\n",
    "    tacyg.reset_index(inplace=True)\n",
    "\n",
    "    fig_amount= px.bar(tacyg,x=\"States\", y=\"Transaction_amount\", title=f\"{year} TRANSACTION AMOUNT\",\n",
    "                    color_discrete_sequence=px.colors.sequential.Aggrnyl, height=650, width=600)\n",
    "    fig_amount.show()\n",
    "\n",
    "    fig_count= px.bar(tacyg,x=\"States\", y=\"Transaction_count\", title=f\"{year} TRANSACTION COUNT\",\n",
    "                    color_discrete_sequence=px.colors.sequential.Bluered_r, height=650, width=600)\n",
    "    fig_count.show()\n",
    "    \n",
    "    \n",
    "    url= \"https://gist.githubusercontent.com/jbrobst/56c13bbbf9d97d187fea01ca62ea5112/raw/e388c4cae20aa53cb5090210a42ebb9b765c0a36/india_states.geojson\"\n",
    "\n",
    "    response= requests.get(url)\n",
    "    data1= json.loads(response.content)\n",
    "    states_name=[]\n",
    "    for feature in data1[\"features\"]:\n",
    "        states_name.append(feature[\"properties\"][\"ST_NM\"])\n",
    "        \n",
    "    states_name.sort()  \n",
    "\n",
    "    fig_india_1= px.choropleth(tacyg, geojson=data1, locations= \"States\",featureidkey=\"properties.ST_NM\",\n",
    "                               color= \"Transaction_amount\", color_continuous_scale= \"Rainbow\",\n",
    "                               range_color= (tacyg[\"Transaction_amount\"].min(), tacyg[\"Transaction_amount\"].max()),\n",
    "                               hover_name= \"States\", title= f\"{year} TRANSACTION AMOUNT\", fitbounds= \"locations\",\n",
    "                               height=600, width=600)\n",
    "    fig_india_1.update_geos(visible= False)\n",
    "    fig_india_1.show()\n",
    "    \n",
    "    fig_india_2= px.choropleth(tacyg, geojson=data1, locations= \"States\",featureidkey=\"properties.ST_NM\",\n",
    "                               color= \"Transaction_count\", color_continuous_scale= \"Rainbow\",\n",
    "                               range_color= (tacyg[\"Transaction_count\"].min(), tacyg[\"Transaction_count\"].max()),\n",
    "                               hover_name= \"States\", title= f\"{year} TRANSACTION COUNT\", fitbounds= \"locations\",\n",
    "                               height=600, width=600)\n",
    "    fig_india_2.update_geos(visible= False)\n",
    "    fig_india_2.show()\n",
    "    \n",
    "    return tacy\n",
    "\n",
    "    "
   ]
  },
  {
   "cell_type": "code",
   "execution_count": 14,
   "metadata": {},
   "outputs": [],
   "source": [
    "#Transaction_Quarter Based\n",
    "def Transaction_amount_count_Y_Q(df, quarter):\n",
    "    tacy= df[df[\"Quarter\"] == quarter]\n",
    "    tacy.reset_index(drop=True,inplace=True)\n",
    "\n",
    "    tacyg= tacy.groupby(\"States\")[[\"Transaction_count\",\"Transaction_amount\"]].sum()\n",
    "    tacyg.reset_index(inplace=True)\n",
    "\n",
    "    fig_amount= px.bar(tacyg,x=\"States\", y=\"Transaction_amount\", title=f\"{tacy['Years'].min()} YEAR {quarter} QUARTER TRANSACTION AMOUNT\",\n",
    "                    color_discrete_sequence=px.colors.sequential.Aggrnyl, height=650, width=600)\n",
    "    fig_amount.show()\n",
    "\n",
    "    fig_count= px.bar(tacyg,x=\"States\", y=\"Transaction_count\", title=f\"{tacy['Years'].min()} YEAR {quarter} QUARTER TRANSACTION COUNT\",\n",
    "                    color_discrete_sequence=px.colors.sequential.Bluered_r, height=650, width=600)\n",
    "    fig_count.show()\n",
    "    \n",
    "    \n",
    "    url= \"https://gist.githubusercontent.com/jbrobst/56c13bbbf9d97d187fea01ca62ea5112/raw/e388c4cae20aa53cb5090210a42ebb9b765c0a36/india_states.geojson\"\n",
    "\n",
    "    response= requests.get(url)\n",
    "    data1= json.loads(response.content)\n",
    "    states_name=[]\n",
    "    for feature in data1[\"features\"]:\n",
    "        states_name.append(feature[\"properties\"][\"ST_NM\"])\n",
    "        \n",
    "    states_name.sort()  \n",
    "\n",
    "    fig_india_1= px.choropleth(tacyg, geojson=data1, locations= \"States\",featureidkey=\"properties.ST_NM\",\n",
    "                               color= \"Transaction_amount\", color_continuous_scale= \"Rainbow\",\n",
    "                               range_color= (tacyg[\"Transaction_amount\"].min(), tacyg[\"Transaction_amount\"].max()),\n",
    "                               hover_name= \"States\", title= f\"{tacy['Years'].min()} YEAR {quarter} QUARTER TRANSACTION AMOUNT\", fitbounds= \"locations\",\n",
    "                               height=600, width=600)\n",
    "    fig_india_1.update_geos(visible= False)\n",
    "    fig_india_1.show()\n",
    "    \n",
    "    fig_india_2= px.choropleth(tacyg, geojson=data1, locations= \"States\",featureidkey=\"properties.ST_NM\",\n",
    "                               color= \"Transaction_count\", color_continuous_scale= \"Rainbow\",\n",
    "                               range_color= (tacyg[\"Transaction_count\"].min(), tacyg[\"Transaction_count\"].max()),\n",
    "                               hover_name= \"States\", title= f\"{tacy['Years'].min()} YEAR {quarter} QUARTER TRANSACTION COUNT\", fitbounds= \"locations\",\n",
    "                               height=600, width=600)\n",
    "    fig_india_2.update_geos(visible= False)\n",
    "    fig_india_2.show()\n",
    "    \n",
    "    return tacy\n",
    "    \n",
    "    \n",
    "\n",
    "    "
   ]
  },
  {
   "cell_type": "code",
   "execution_count": 15,
   "metadata": {},
   "outputs": [],
   "source": [
    "#Transaction_Type Based\n",
    "def Aggre_Tran_Transaction_type(df, state):\n",
    "\n",
    "    tacy= df[df[\"States\"] == state]\n",
    "    tacy.reset_index(drop=True,inplace=True)\n",
    "\n",
    "    tacyg= tacy.groupby(\"Transaction_type\")[[\"Transaction_count\",\"Transaction_amount\"]].sum()\n",
    "    tacyg.reset_index(inplace=True)\n",
    "\n",
    "    fig_pie_1= px.pie(data_frame= tacyg, names= \"Transaction_type\", values= \"Transaction_amount\",\n",
    "                    width= 600, title=f\"{state.upper()} TRANSACTION AMOUNT\", hole= 0)\n",
    "    fig_pie_1.show()\n",
    "\n",
    "    fig_pie_2= px.pie(data_frame= tacyg, names= \"Transaction_type\", values= \"Transaction_count\",\n",
    "                    width= 600, title=f\"{state.upper()} TRANSACTION COUNT\", hole= 0)\n",
    "    fig_pie_2.show()"
   ]
  },
  {
   "cell_type": "code",
   "execution_count": 16,
   "metadata": {},
   "outputs": [],
   "source": [
    "#Agger_user_analysis_1\n",
    "def Aggre_user_plot_1(df, year):\n",
    "    aguy= df[df[\"Years\"]== year]\n",
    "    aguy.reset_index(drop=True, inplace=True)\n",
    "\n",
    "    aguyg= pd.DataFrame(aguy.groupby(\"Brands\")[\"Transaction_count\"].sum())\n",
    "    aguyg.reset_index(inplace=True)\n",
    "\n",
    "    fig_bar_1= px.bar(aguyg, x= \"Brands\", y= \"Transaction_count\", title= f\"{year} BRANDS AND TRANSACTION COUNT\",\n",
    "                    width=600, color_discrete_sequence= px.colors.sequential.haline_r, hover_name=\"Brands\")\n",
    "    fig_bar_1.show()\n",
    "    \n",
    "    return aguy"
   ]
  },
  {
   "cell_type": "code",
   "execution_count": 17,
   "metadata": {},
   "outputs": [],
   "source": [
    "#Aggre_user_analysis_2\n",
    "def aggre_user_plot2(df, quarter):\n",
    "    aguyq= df[df[\"Quarter\"]== quarter]\n",
    "    aguyq.reset_index(drop=True, inplace=True)\n",
    "\n",
    "    aguyqg= pd.DataFrame(aguyq.groupby(\"Brands\")[\"Transaction_count\"].sum())\n",
    "    aguyqg.reset_index(inplace=True)\n",
    "\n",
    "    fig_bar_1= px.bar(aguyqg, x= \"Brands\", y= \"Transaction_count\", title= f\"{quarter}  QUARTER, BRANDS AND TRANSACTION COUNT\",\n",
    "                    width=600, color_discrete_sequence= px.colors.sequential.haline_r, hover_name=\"Brands\")\n",
    "    fig_bar_1.show()\n",
    "    \n",
    "    return aguyq"
   ]
  },
  {
   "cell_type": "code",
   "execution_count": 18,
   "metadata": {},
   "outputs": [],
   "source": [
    "#Aggre_user_analysis_3\n",
    "def Aggre_user_plot_3(df, state):\n",
    "    auyqs= df[df[\"States\"] == state]\n",
    "    auyqs.reset_index(drop= True, inplace= True)\n",
    "\n",
    "    fig_line_1= px.line(auyqs, x= \"Brands\", y= \"Transaction_count\", hover_data= \"Percentage\",\n",
    "                        title= f\"{state.upper() }BRANDS, TRANSACTION COUNT, PERCENTAGE\", width= 1000, markers= \"True\")\n",
    "    fig_line_1.show()"
   ]
  },
  {
   "cell_type": "code",
   "execution_count": 19,
   "metadata": {},
   "outputs": [],
   "source": [
    "#Map_Transation\n",
    "def map_tran_Districts(df, state):\n",
    "\n",
    "    tacy= df[df[\"States\"] == state]\n",
    "    tacy.reset_index(drop=True,inplace=True)\n",
    "\n",
    "    tacyg= tacy.groupby(\"Districts\")[[\"Transaction_count\",\"Transaction_amount\"]].sum()\n",
    "    tacyg.reset_index(inplace=True)\n",
    "\n",
    "    fig_bar_1= px.bar(tacyg, x= \"Transaction_amount\", y= \"Districts\", orientation= \"h\",\n",
    "                      title= f\"{state.upper()} DISTRICT AND TRANSACTION AMOUNT\", color_discrete_sequence= px.colors.sequential.Mint_r)\n",
    "    fig_bar_1.show()\n",
    "\n",
    "    fig_bar_2= px.bar(tacyg, x= \"Transaction_count\", y= \"Districts\", orientation= \"h\",\n",
    "                      title= f\"{state.upper()} DISTRICT AND TRANSACTION COUNT\", color_discrete_sequence= px.colors.sequential.Bluered_r)\n",
    "    fig_bar_2.show()"
   ]
  },
  {
   "cell_type": "code",
   "execution_count": 20,
   "metadata": {},
   "outputs": [],
   "source": [
    "#map_user_plot1 \n",
    "def map_user_plot1(df,year):\n",
    "    muy= df[df[\"Years\"]== year]\n",
    "    muy.reset_index(drop=True, inplace=True)\n",
    "\n",
    "    muyg= muy.groupby(\"States\")[[\"RegisteredUsers\", \"AppOpens\"]].sum()\n",
    "    muyg.reset_index(inplace=True)\n",
    "\n",
    "    fig_line_1= px.line(muyg, x= \"States\", y= [\"RegisteredUsers\", \"AppOpens\"],\n",
    "                        title=f\"{year} REGISTERDUSER APPOPENS\", width= 1000, markers= \"True\")\n",
    "    fig_line_1.show()\n",
    "    \n",
    "    return muy"
   ]
  },
  {
   "cell_type": "code",
   "execution_count": 21,
   "metadata": {},
   "outputs": [],
   "source": [
    "#map_user_plot2 \n",
    "def map_user_plot2(df,quarter):\n",
    "    muyq=df[df[\"Quarter\"]== quarter]\n",
    "    muyq.reset_index(drop=True, inplace=True)\n",
    "\n",
    "    muyqg=muyq.groupby(\"States\")[[\"RegisteredUsers\", \"AppOpens\"]].sum()\n",
    "    muyqg.reset_index(inplace=True)\n",
    "\n",
    "    fig_line_1= px.line(muyqg, x= \"States\", y= [\"RegisteredUsers\", \"AppOpens\"],\n",
    "                        title=f\"{df['Years'].min()} YEAR {quarter} QUARTER REGISTERDUSER APPOPENS\", width= 1000, height= 500, markers= \"True\", color_discrete_sequence= px.colors.sequential.Rainbow_r)\n",
    "    fig_line_1.show()\n",
    "    \n",
    "    return muyq"
   ]
  },
  {
   "cell_type": "code",
   "execution_count": 22,
   "metadata": {},
   "outputs": [],
   "source": [
    "#map_user_plot3\n",
    "def map_user_plot3(df, States):\n",
    "    muyqs= df[df[\"States\"]== States]\n",
    "    muyqs.reset_index(drop=True, inplace=True)\n",
    "\n",
    "    fig_map_user_bar_1=px.bar(muyqs, x=\"RegisteredUsers\", y=\"Districts\", orientation=\"h\",\n",
    "                            title= \"REGISTERD USER\", height= 800, color_discrete_sequence= px.colors.sequential.Rainbow_r)\n",
    "    fig_map_user_bar_1.show()\n",
    "\n",
    "    fig_map_user_bar_2=px.bar(muyqs, x=\"AppOpens\", y=\"Districts\", orientation=\"h\",\n",
    "                            title= \"APPOPENS \", height= 800, color_discrete_sequence= px.colors.sequential.Rainbow)\n",
    "    fig_map_user_bar_2.show()"
   ]
  },
  {
   "cell_type": "code",
   "execution_count": 23,
   "metadata": {},
   "outputs": [],
   "source": [
    "# Top_Transaction_plot_1\n",
    "def Top_Transaction_plot_1(df,state):\n",
    "    tty=df[df[\"States\"]== state]\n",
    "    tty.reset_index(drop=True, inplace=True)\n",
    "\n",
    "    ttyg=tty.groupby(\"Pincodes\")[[\"Transaction_count\", \"Transaction_amount\"]].sum()\n",
    "    ttyg.reset_index(inplace=True)\n",
    "\n",
    "    fig_top_tran_bar_1=px.bar(tty, x=\"Quarter\", y=\"Transaction_amount\", hover_data= \"Pincodes\",\n",
    "                            title= \"TRANSACTION AMOUNT\", height= 800, color_discrete_sequence= px.colors.sequential.Rainbow_r)\n",
    "    fig_top_tran_bar_1.show()\n",
    "    \n",
    "    fig_top_tran_bar_2=px.bar(tty, x=\"Quarter\", y=\"Transaction_count\", hover_data= \"Pincodes\",\n",
    "                            title= \"TRANSACTION COUNT\", height= 800, color_discrete_sequence= px.colors.sequential.Rainbow)\n",
    "    fig_top_tran_bar_2.show()"
   ]
  },
  {
   "cell_type": "code",
   "execution_count": 24,
   "metadata": {},
   "outputs": [],
   "source": [
    "# top_user_plot_1\n",
    "def top_user_plot_1(df, year):\n",
    "    tuy= df[df[\"Years\"]== year]\n",
    "    tuy.reset_index(drop=True, inplace=True)\n",
    "\n",
    "    tuyg= pd.DataFrame(tuy.groupby([\"States\", \"Quarter\"])[\"RegisteredUsers\"].sum())\n",
    "    tuyg.reset_index(inplace=True)\n",
    "\n",
    "    fig_top_plot_1= px.bar(tuyg, x=\"States\", y= \"RegisteredUsers\", color= \"Quarter\", width= 1000, height= 800,\n",
    "                        color_discrete_sequence= px.colors.sequential.Burgyl, hover_name= \"States\",\n",
    "                        title=f\"{year} REGISTERED USERS\")\n",
    "    fig_top_plot_1.show()\n",
    "    return tuy"
   ]
  },
  {
   "cell_type": "code",
   "execution_count": 25,
   "metadata": {},
   "outputs": [],
   "source": [
    "#top_user_plot_2\n",
    "def top_user_plot_2(df, state):\n",
    "    tuys= df[df[\"States\"]== state]\n",
    "    tuys.reset_index(drop=True, inplace=True)\n",
    "\n",
    "    fig_top_plot_2= px.bar(tuys, x= \"Quarter\", y= \"RegisteredUsers\", title= \"REGISTERDUSER, PINCODES, QUARTER\",\n",
    "                        width= 1000, height=800, color= \"RegisteredUsers\", hover_data= \"Pincodes\",\n",
    "                        color_continuous_scale= px.colors.sequential.Burgyl)\n",
    "    fig_top_plot_2.show()\n",
    "    "
   ]
  },
  {
   "cell_type": "markdown",
   "metadata": {},
   "source": [
    "### Aggregated_Transaction"
   ]
  },
  {
   "cell_type": "code",
   "execution_count": null,
   "metadata": {},
   "outputs": [],
   "source": [
    "tac_y=Transaction_amount_count_Y(Aggre_transaction, 2022)"
   ]
  },
  {
   "cell_type": "code",
   "execution_count": null,
   "metadata": {},
   "outputs": [],
   "source": [
    "Aggre_Tran_Transaction_type(ac_yt, \"Tamil Nadu\")"
   ]
  },
  {
   "cell_type": "code",
   "execution_count": null,
   "metadata": {},
   "outputs": [],
   "source": [
    "tac_y_Q= Transaction_amount_count_Y_Q(tac_y, 3)"
   ]
  },
  {
   "cell_type": "code",
   "execution_count": null,
   "metadata": {},
   "outputs": [],
   "source": [
    "Aggre_Tran_Transaction_type(tac_y_Q, \"Tamil Nadu\")"
   ]
  },
  {
   "cell_type": "markdown",
   "metadata": {},
   "source": [
    "### Aggregated_user"
   ]
  },
  {
   "cell_type": "code",
   "execution_count": null,
   "metadata": {},
   "outputs": [],
   "source": [
    "Aggre_user_Y= Aggre_user_plot_1(Aggre_user, 2020)"
   ]
  },
  {
   "cell_type": "code",
   "execution_count": null,
   "metadata": {},
   "outputs": [],
   "source": [
    "Aggre_user_Y_Q= aggre_user_plot2(Aggre_user_Y, 3)"
   ]
  },
  {
   "cell_type": "code",
   "execution_count": null,
   "metadata": {},
   "outputs": [],
   "source": [
    "Aggre_user_plot_3(Aggre_user_Y_Q, \"Andaman & Nicobar\")"
   ]
  },
  {
   "cell_type": "markdown",
   "metadata": {},
   "source": [
    "### Map_Transaction\n"
   ]
  },
  {
   "cell_type": "code",
   "execution_count": null,
   "metadata": {},
   "outputs": [],
   "source": [
    "map_tac_y=Transaction_amount_count_Y(map_transaction, 2022)"
   ]
  },
  {
   "cell_type": "code",
   "execution_count": null,
   "metadata": {},
   "outputs": [],
   "source": [
    "map_tran_Districts(map_tac_y, \"Tamil Nadu\")"
   ]
  },
  {
   "cell_type": "code",
   "execution_count": null,
   "metadata": {},
   "outputs": [],
   "source": [
    "map_tac_y_Q= Transaction_amount_count_Y_Q(map_tac_y, 3)"
   ]
  },
  {
   "cell_type": "code",
   "execution_count": null,
   "metadata": {},
   "outputs": [],
   "source": [
    "map_tran_Districts(map_tac_y_Q, \"Tamil Nadu\")"
   ]
  },
  {
   "cell_type": "markdown",
   "metadata": {},
   "source": [
    "### Map User Analysis\n"
   ]
  },
  {
   "cell_type": "code",
   "execution_count": null,
   "metadata": {},
   "outputs": [],
   "source": [
    "map_user_Y= map_user_plot1(map_user,2020)"
   ]
  },
  {
   "cell_type": "code",
   "execution_count": null,
   "metadata": {},
   "outputs": [],
   "source": [
    "Map_user_Y_Q= map_user_plot2(map_user_Y,2)"
   ]
  },
  {
   "cell_type": "code",
   "execution_count": null,
   "metadata": {},
   "outputs": [],
   "source": [
    "map_user_plot3(Map_user_Y_Q, \"Tamil Nadu\")"
   ]
  },
  {
   "cell_type": "markdown",
   "metadata": {},
   "source": [
    "### Top Transaction\n"
   ]
  },
  {
   "cell_type": "code",
   "execution_count": null,
   "metadata": {},
   "outputs": [],
   "source": [
    "top_tac_y=Transaction_amount_count_Y(top_transaction, 2022)"
   ]
  },
  {
   "cell_type": "code",
   "execution_count": null,
   "metadata": {},
   "outputs": [],
   "source": [
    "Top_Transaction_plot_1(top_tac_y,\"West Bengal\")"
   ]
  },
  {
   "cell_type": "code",
   "execution_count": null,
   "metadata": {},
   "outputs": [],
   "source": [
    "top_tac_y_Q= Transaction_amount_count_Y_Q(top_tac_y, 3)"
   ]
  },
  {
   "cell_type": "markdown",
   "metadata": {},
   "source": [
    "### Top User"
   ]
  },
  {
   "cell_type": "code",
   "execution_count": null,
   "metadata": {},
   "outputs": [],
   "source": [
    "Top_user_Y=top_user_plot_1(top_user, 2020)"
   ]
  },
  {
   "cell_type": "code",
   "execution_count": null,
   "metadata": {},
   "outputs": [],
   "source": [
    "top_user_plot_2(Top_user_Y, \"Tamil Nadu\")"
   ]
  }
 ],
 "metadata": {
  "kernelspec": {
   "display_name": "Python 3",
   "language": "python",
   "name": "python3"
  },
  "language_info": {
   "codemirror_mode": {
    "name": "ipython",
    "version": 3
   },
   "file_extension": ".py",
   "mimetype": "text/x-python",
   "name": "python",
   "nbconvert_exporter": "python",
   "pygments_lexer": "ipython3",
   "version": "3.12.3"
  }
 },
 "nbformat": 4,
 "nbformat_minor": 2
}
